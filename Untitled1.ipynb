{
 "cells": [
  {
   "cell_type": "code",
   "execution_count": 1,
   "metadata": {},
   "outputs": [
    {
     "name": "stdout",
     "output_type": "stream",
     "text": [
      "Requirement already satisfied: pytesseract in c:\\users\\dell\\anaconda3\\lib\\site-packages (0.3.10)\n",
      "Requirement already satisfied: packaging>=21.3 in c:\\users\\dell\\anaconda3\\lib\\site-packages (from pytesseract) (21.3)\n",
      "Requirement already satisfied: Pillow>=8.0.0 in c:\\users\\dell\\anaconda3\\lib\\site-packages (from pytesseract) (9.2.0)\n",
      "Requirement already satisfied: pyparsing!=3.0.5,>=2.0.2 in c:\\users\\dell\\anaconda3\\lib\\site-packages (from packaging>=21.3->pytesseract) (2.4.7)\n",
      "Note: you may need to restart the kernel to use updated packages.\n"
     ]
    }
   ],
   "source": [
    "pip install pytesseract"
   ]
  },
  {
   "cell_type": "code",
   "execution_count": 2,
   "metadata": {},
   "outputs": [],
   "source": [
    "import pytesseract"
   ]
  },
  {
   "cell_type": "code",
   "execution_count": 3,
   "metadata": {},
   "outputs": [
    {
     "name": "stdout",
     "output_type": "stream",
     "text": [
      "Requirement already satisfied: opencv-python in c:\\users\\dell\\anaconda3\\lib\\site-packages (4.6.0.66)\n",
      "Requirement already satisfied: numpy>=1.14.5; python_version >= \"3.7\" in c:\\users\\dell\\anaconda3\\lib\\site-packages (from opencv-python) (1.19.5)\n",
      "Note: you may need to restart the kernel to use updated packages.\n"
     ]
    }
   ],
   "source": [
    "pip install opencv-python"
   ]
  },
  {
   "cell_type": "code",
   "execution_count": 4,
   "metadata": {},
   "outputs": [],
   "source": [
    "import os\n",
    "import cv2\n",
    "from PIL import Image\n",
    "import pytesseract as pt"
   ]
  },
  {
   "cell_type": "code",
   "execution_count": 5,
   "metadata": {},
   "outputs": [
    {
     "name": "stdout",
     "output_type": "stream",
     "text": [
      "Sample_image - Copy.jpg\n",
      "Sample_image.jpg\n"
     ]
    }
   ],
   "source": [
    "test_img_path = \"sample images\"\n",
    "create_path = lambda f : os.path.join(test_img_path, f)\n",
    "\n",
    "test_image_files = os.listdir(test_img_path)\n",
    "\n",
    "for f in test_image_files:\n",
    "    print(f)"
   ]
  },
  {
   "cell_type": "code",
   "execution_count": 6,
   "metadata": {},
   "outputs": [],
   "source": [
    "def show_image(img_path, size=(500, 500)):\n",
    "    image = cv2.imread(img_path)\n",
    "    image = cv2.resize(image, size)\n",
    "    \n",
    "    cv2.imshow(\"IMAGE\", image)\n",
    "    cv2.waitKey(0)\n",
    "    cv2.destroyAllWindows()"
   ]
  },
  {
   "cell_type": "code",
   "execution_count": 7,
   "metadata": {},
   "outputs": [],
   "source": [
    "pt.pytesseract.tesseract_cmd = r\"C:\\Program Files\\Tesseract-OCR\\tesseract.exe\" "
   ]
  },
  {
   "cell_type": "code",
   "execution_count": 8,
   "metadata": {},
   "outputs": [
    {
     "name": "stdout",
     "output_type": "stream",
     "text": [
      "eng\n",
      "osd\n"
     ]
    }
   ],
   "source": [
    "avb_langs = pt.get_languages(config='')\n",
    "\n",
    "for lang in avb_langs:\n",
    "    print(lang)"
   ]
  },
  {
   "cell_type": "code",
   "execution_count": 9,
   "metadata": {},
   "outputs": [
    {
     "name": "stdout",
     "output_type": "stream",
     "text": [
      "S/O Number\n",
      "NBMZ12536\n",
      "\n",
      "Vessel/Voyage\n",
      "CMA CGM FLORIDA\n",
      "\n",
      "OGV6U\n",
      "\n",
      "ETD of POL\n",
      "2020/12/2 0:00:00\n",
      "\n",
      "ETA of PODO\n",
      "2020/12/15 0:00:00\n",
      "\n",
      "POL\n",
      "NINGBO,CN\n",
      "\n",
      "POD\n",
      "LOS ANGELES,CA,US\n",
      "\n",
      "Worldwide Logistics\n",
      "\n",
      "Honour Lane\n",
      "\n",
      "PLD\n",
      "DALLAS, TX,USO\n",
      "\n",
      "PO No.\n",
      "\n",
      "Type of movement\n",
      "\n",
      "FCL LCL\n",
      "\n",
      "=\n",
      "\n",
      "1. Seller Name & Address\n",
      "Some Random Company PVT. LTD.\n",
      "\n",
      "Baneshwor, Kathmandu\n",
      "Nepal\n",
      "\n",
      "3150000\n",
      "\n",
      "ISF(10+2) Data Submission form\n",
      "\n",
      "Security filling information must be provided at leasti72\n",
      "hours prior to loading of cargo. Inaccurate or incomplete 0\n",
      "information can result in delays, additional expenses, charges\n",
      "as well as potential penalties.\n",
      "\n",
      "To be filled by honour Lane Shipping Ltd.\n",
      "\n",
      "HB/L# used in AMS filling\n",
      "\n",
      "Regular or Straight B/L\n",
      "\n",
      "NB20A1629 NBMZ12536\n",
      "2.Buyer Name & Address(Importer of Record) SCAC code SCAC code\n",
      "SOME SAMPLE NAMES HNLTO CMDU\n",
      "von AD, KATHMANDUT 5.Consolidator(Stuffer) name and address\n",
      "\n",
      "HAMRO COMPANY PVT LTD\n",
      "GWARKO, LALITPURZ\n",
      "\n",
      "NEPALO\n",
      "3.Ship to party Name & address\n",
      "SOME SAMPLE NAME HERE 0 3150000\n",
      "SURYAVINAYAK, BHAKTAPUR) 0\n",
      "NEPALO 6.Ilmporter of Record Number(Federal Tax ID#)\n",
      "4.Container Stuffing Location 0 7.Consignee Number(IRS Number)]\n",
      "HAMRO COMPANY PVT LTDO\n",
      "GWARKO, LALITPUR 0\n",
      "NEPALO\n",
      "HTS Country . .\n",
      "8.Manufacturer'Name & Address ity PO No Container\n",
      "code of\n",
      "HAMRO COMPANY PVT LTDG (815900 Qxigin NINGBO,Co |P0102010 CAIU9669025(40HQ);0\n",
      "GWARKO, LALITPURZ digits) No\n",
      "\n",
      "NEPALO\n",
      "\n",
      "Commodity Description\n",
      "\n",
      "AIR CONDITIONER PARTS AND GRILLES SQUEEGEES THIS SHIPMENT CONTAINS NO WOOD\n",
      "\n",
      "PACKAGING MATERIALS\n",
      "\n",
      "ISF data submitted by:0\n",
      "\n",
      "(Name of company)\n",
      "\n",
      "(Name of person)\n",
      "\n",
      "Disclaimer : Both the shipper, consignee, importer and its freight agent, customes broker understood Honour Lane Shipping\n",
      "Ltd is not the filer of ISF, Honour Lane Shipping Ltd is NOT required and will NOT validate the data accuracy on this\n",
      "document, Honour Lane Shipping Ltd would NOT be responsible for any fines,penalties, expenses and whatsoever arising\n",
      "from any inaccuracy or omission on this ISF data submission form, even if such inaccuracy and omission is not due to any\n",
      "\n",
      "negligence.\n",
      "\n",
      "\n"
     ]
    }
   ],
   "source": [
    "image_path = test_image_files[1] \n",
    "path = create_path(image_path)\n",
    "\n",
    "image = Image.open(path)\n",
    "text = pt.image_to_string(image)\n",
    "\n",
    "print(text)\n",
    "show_image(path)"
   ]
  },
  {
   "cell_type": "code",
   "execution_count": 10,
   "metadata": {},
   "outputs": [],
   "source": [
    "what = [\"Seller Name & Address\",\n",
    "       \"Buyer Name & Address(Importer of Record)\",\n",
    "       \"Container\",\n",
    "       \"POL\",\n",
    "       \"POD\",\n",
    "       \"ETA of POD\",\n",
    "       \"ETD of POL\",\n",
    "       \"Vessel/Voyage (1st part)\",\n",
    "       \"Vessel/Voyage (2nd part)\",\n",
    "       \"Regular or Straight B/L\",\n",
    "       \"SCAC code(below mbl_num)\",\n",
    "       \"HB/L# used in AMS filling\",\n",
    "       \"SCAC (below hbl_num)\",\n",
    "       \"Type of movement(FCL or LCL)\"]"
   ]
  },
  {
   "cell_type": "code",
   "execution_count": 11,
   "metadata": {},
   "outputs": [
    {
     "name": "stdout",
     "output_type": "stream",
     "text": [
      "Seller Name & Address = Some Random\n",
      "Buyer Name & Address(Importer of Record) = SCAC code S\n",
      "Container = Stuffing Lo\n",
      "POL = 2020/12/2 0\n",
      "POD = \n",
      "2020/12/15\n",
      "ETA of POD = \n",
      "2020/12/15\n",
      "ETD of POL = 2020/12/2 0\n",
      "Vessel/Voyage (1st part) = ssel/Voyage\n",
      "Vessel/Voyage (2nd part) = ssel/Voyage\n",
      "Regular or Straight B/L = \n",
      "NB20A1629 \n",
      "SCAC code(below mbl_num) = ssel/Voyage\n",
      "HB/L# used in AMS filling = \n",
      "Regular or\n",
      "SCAC (below hbl_num) = \n",
      "\n",
      "Vessel/Vo\n",
      "Type of movement(FCL or LCL) = /Voyage\n",
      "CMA\n"
     ]
    }
   ],
   "source": [
    "for word in what:\n",
    "    a = text.find(word)\n",
    "    b = len(word)\n",
    "    x = text[a+b+1:a+b+12] \n",
    "    c = \"{} = {}\".format(word, x)\n",
    "    print(c)"
   ]
  },
  {
   "cell_type": "code",
   "execution_count": null,
   "metadata": {},
   "outputs": [],
   "source": []
  }
 ],
 "metadata": {
  "kernelspec": {
   "display_name": "Python 3",
   "language": "python",
   "name": "python3"
  },
  "language_info": {
   "codemirror_mode": {
    "name": "ipython",
    "version": 3
   },
   "file_extension": ".py",
   "mimetype": "text/x-python",
   "name": "python",
   "nbconvert_exporter": "python",
   "pygments_lexer": "ipython3",
   "version": "3.7.7"
  }
 },
 "nbformat": 4,
 "nbformat_minor": 4
}
